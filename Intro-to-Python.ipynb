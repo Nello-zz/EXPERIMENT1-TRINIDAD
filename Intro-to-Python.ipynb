{
 "cells": [
  {
   "cell_type": "markdown",
   "id": "ef8fd730-3174-4fd3-94c5-508f99d86faf",
   "metadata": {},
   "source": [
    "# INTRO TO PYTHON - TRINIDAD"
   ]
  },
  {
   "cell_type": "markdown",
   "id": "dd8a3451-1db7-4ffd-b6c3-4bdeb2e895cb",
   "metadata": {},
   "source": [
    "### SAMPLE CODE FROM THE INTERNET_PROBLELM 1\n",
    "#### Note: sample codes are used for reference"
   ]
  },
  {
   "cell_type": "code",
   "execution_count": 38,
   "id": "6aff3a0c-40d5-46db-a530-4bee9e3b7fb8",
   "metadata": {},
   "outputs": [
    {
     "ename": "SyntaxError",
     "evalue": "invalid decimal literal (681397647.py, line 7)",
     "output_type": "error",
     "traceback": [
      "\u001b[1;36m  Cell \u001b[1;32mIn[38], line 7\u001b[1;36m\u001b[0m\n\u001b[1;33m    print(sortString(s))lem 1lem 1\u001b[0m\n\u001b[1;37m                            ^\u001b[0m\n\u001b[1;31mSyntaxError\u001b[0m\u001b[1;31m:\u001b[0m invalid decimal literal\n"
     ]
    }
   ],
   "source": [
    "#Program to sort letters  of string alphabetically\r\n",
    "def sortString(s):\n",
    "    return ''.join(sorted(s))\n",
    "\n",
    "# Example string\n",
    "s = 'PYTHON'\n",
    "print(sortString(s))lem 1"
   ]
  },
  {
   "cell_type": "markdown",
   "id": "f3c82fcb-e71a-45e8-890e-61d7500f6fe0",
   "metadata": {},
   "source": [
    "#### CODE FOR PROBLEM 1"
   ]
  },
  {
   "cell_type": "code",
   "execution_count": 22,
   "id": "c8afcbb7-0c4a-4944-bc84-67fa0323f401",
   "metadata": {},
   "outputs": [
    {
     "name": "stdin",
     "output_type": "stream",
     "text": [
      "Enter a word:  sleep\n"
     ]
    },
    {
     "name": "stdout",
     "output_type": "stream",
     "text": [
      "Letters in alphabetical order: eelps\n"
     ]
    }
   ],
   "source": [
    "# Get user input\n",
    "word = input(\"Enter a word: \")\n",
    "\n",
    "sorted_word = \"\"\n",
    "\n",
    "# Loop until all characters are checked\n",
    "while word:\n",
    "    # Find the character with the highest unicode value\n",
    "    max_char = max(word)  \n",
    "    # Concatenate max_char with sorted_word in reverse\n",
    "    sorted_word = max_char + sorted_word  \n",
    "    # Remove the first occurrence of this character\n",
    "    word = word.replace(max_char, '', 1)\n",
    "\n",
    "print(\"Letters in alphabetical order:\", sorted_word)"
   ]
  },
  {
   "cell_type": "markdown",
   "id": "34347090-e646-4dc5-9d20-f6b6e62ea11a",
   "metadata": {},
   "source": [
    "## SAMPLE CODE FROM THE INTERNET_PROBLELM 2"
   ]
  },
  {
   "cell_type": "code",
   "execution_count": 24,
   "id": "2ae4761d-c1c3-40e1-bad6-b70ab4636857",
   "metadata": {},
   "outputs": [
    {
     "name": "stdin",
     "output_type": "stream",
     "text": [
      "Enter your age:  19\n"
     ]
    },
    {
     "name": "stdout",
     "output_type": "stream",
     "text": [
      "You are an adult.\n"
     ]
    }
   ],
   "source": [
    "# Prompting the user for input\n",
    "age_input = input(\"Enter your age: \")\n",
    "\n",
    "# Converting the input to an integer\n",
    "age = int(age_input)\n",
    "\n",
    "# Checking conditions based on user input\n",
    "if age < 0:\n",
    "    print(\"Please enter a valid age.\")\n",
    "elif age < 18:\n",
    "    print(\"You are a minor.\")\n",
    "elif age >= 18 and age < 65:\n",
    "    print(\"You are an adult.\")\n",
    "else:\n",
    "    print(\"You are a senior citizen.\")"
   ]
  },
  {
   "cell_type": "code",
   "execution_count": 26,
   "id": "afb263b2-121a-40d9-ae15-de2460e88e4f",
   "metadata": {},
   "outputs": [
    {
     "name": "stdin",
     "output_type": "stream",
     "text": [
      "Enter a sentence:  No eating here tonight, you're on a diet. So sad.\n"
     ]
    },
    {
     "name": "stdout",
     "output_type": "stream",
     "text": [
      "\n",
      "Menu:\n",
      "1. Replace 'smile' with :))\n",
      "2. Replace 'grin' with :D\n",
      "3. Replace 'sad' with :((\n",
      "4. Replace 'mad' with >:(\n",
      "5. Enter a new sentence\n",
      "6. Exit\n"
     ]
    },
    {
     "name": "stdin",
     "output_type": "stream",
     "text": [
      "Choose an option (1-6):  3\n"
     ]
    },
    {
     "name": "stdout",
     "output_type": "stream",
     "text": [
      "New sentence: No eating here tonight, you're on a diet. So :((.\n",
      "\n",
      "Menu:\n",
      "1. Replace 'smile' with :))\n",
      "2. Replace 'grin' with :D\n",
      "3. Replace 'sad' with :((\n",
      "4. Replace 'mad' with >:(\n",
      "5. Enter a new sentence\n",
      "6. Exit\n"
     ]
    },
    {
     "name": "stdin",
     "output_type": "stream",
     "text": [
      "Choose an option (1-6):  6\n"
     ]
    },
    {
     "name": "stdout",
     "output_type": "stream",
     "text": [
      "Exiting...\n"
     ]
    }
   ],
   "source": [
    "# Function to replace a word with its emoticon\n",
    "def replace_word(sentence, word, emoticon):\n",
    "    return sentence.replace(word, emoticon)\n",
    "\n",
    "# Function to print the menu\n",
    "def menu_options():\n",
    "    print(\"\\nMenu:\")\n",
    "    print(\"1. Replace 'smile' with :))\")\n",
    "    print(\"2. Replace 'grin' with :D\")\n",
    "    print(\"3. Replace 'sad' with :((\")\n",
    "    print(\"4. Replace 'mad' with >:(\")\n",
    "    print(\"5. Enter a new sentence\")\n",
    "    print(\"6. Exit\")\n",
    "\n",
    "# Main menu function\n",
    "def main_menu():\n",
    "    sentence = input(\"Enter a sentence: \")\n",
    "    \n",
    "    while True:\n",
    "        menu_options()\n",
    "        #Ask the user to choose from the menu\n",
    "        choice = input(\"Choose an option (1-6): \")\n",
    "\n",
    "        if choice == '1':\n",
    "            sentence = replace_word(sentence, \"smile\", \":))\")\n",
    "            print(\"New sentence:\", sentence)\n",
    "        elif choice == '2':\n",
    "            sentence = replace_word(sentence, \"grin\", \":D\")\n",
    "            print(\"New sentence:\", sentence)\n",
    "        elif choice == '3':\n",
    "            sentence = replace_word(sentence, \"sad\", \":((\")\n",
    "            print(\"New sentence:\", sentence)\n",
    "        elif choice == '4':\n",
    "            sentence = replace_word(sentence, \"mad\", \">:(\")\n",
    "            print(\"New sentence:\", sentence)\n",
    "        elif choice == '5':\n",
    "            sentence = input(\"Enter a new sentence: \")\n",
    "        # Exit the loop\n",
    "        elif choice == '6':\n",
    "            print(\"Exiting...\")\n",
    "            break  \n",
    "        else:\n",
    "            print(\"Invalid choice. Please try again.\")\n",
    "\n",
    "# Run the menu\n",
    "main_menu()"
   ]
  },
  {
   "cell_type": "markdown",
   "id": "11e9ff7c-8754-4779-ab77-c4546e24cd42",
   "metadata": {},
   "source": [
    "## SAMPLE CODE FROM THE INTERNET-PROBLEM 3"
   ]
  },
  {
   "cell_type": "code",
   "execution_count": 6,
   "id": "c90b5d32-417b-46e5-8e88-03202ef57a7b",
   "metadata": {},
   "outputs": [
    {
     "name": "stdout",
     "output_type": "stream",
     "text": [
      "2\n",
      "4\n",
      "[6, 8, 10]\n"
     ]
    }
   ],
   "source": [
    "# Initialize list \n",
    "mylist = [2, 4, 6, 8, 10]\n",
    "\n",
    "# Use * to unpack list\n",
    "a, b, *c = mylist\n",
    "\n",
    "print(a)  # Output: 2\n",
    "print(b)  # Output: 4\n",
    "print(c)  # Output: [6, 8, 10]\n"
   ]
  },
  {
   "cell_type": "markdown",
   "id": "670ebf0f-9d29-4008-9fe3-467aef0a0122",
   "metadata": {},
   "source": [
    "#### CODE FOR PROBLEM 3"
   ]
  },
  {
   "cell_type": "code",
   "execution_count": 30,
   "id": "5f3b6a28-fe6f-400c-9de3-0d2ce937f947",
   "metadata": {},
   "outputs": [
    {
     "name": "stdin",
     "output_type": "stream",
     "text": [
      "Enter items separated by commas:  sampalok, turon, biko, 1\n"
     ]
    },
    {
     "name": "stdout",
     "output_type": "stream",
     "text": [
      "First: sampalok\n",
      "Middle: [' turon', ' biko']\n",
      "Last:  1\n"
     ]
    }
   ],
   "source": [
    "# Get user input\n",
    "list_input = input(\"Enter items separated by commas: \")\n",
    "#Convert into a list of items\n",
    "items = list_input.split(',')\n",
    "\n",
    "# Unpack the list into three parts\n",
    "first, *middle, last = items\n",
    "\n",
    "# Print the variables\n",
    "print(\"First:\", first)\n",
    "print(\"Middle:\", middle)\n",
    "print(\"Last:\", last)\n"
   ]
  },
  {
   "cell_type": "code",
   "execution_count": null,
   "id": "11915618-71ea-43bf-b7e5-016a657d1a4a",
   "metadata": {},
   "outputs": [],
   "source": []
  }
 ],
 "metadata": {
  "kernelspec": {
   "display_name": "Python 3 (ipykernel)",
   "language": "python",
   "name": "python3"
  },
  "language_info": {
   "codemirror_mode": {
    "name": "ipython",
    "version": 3
   },
   "file_extension": ".py",
   "mimetype": "text/x-python",
   "name": "python",
   "nbconvert_exporter": "python",
   "pygments_lexer": "ipython3",
   "version": "3.12.4"
  }
 },
 "nbformat": 4,
 "nbformat_minor": 5
}
